{
 "cells": [
  {
   "cell_type": "markdown",
   "metadata": {},
   "source": [
    "<b><font size=\"6\"> Generate text using the trained model </font></b>"
   ]
  },
  {
   "cell_type": "code",
   "execution_count": 1,
   "metadata": {},
   "outputs": [],
   "source": [
    "import warnings\n",
    "warnings.filterwarnings(\"ignore\")\n",
    "\n",
    "from transformers import pipeline, set_seed"
   ]
  },
  {
   "cell_type": "code",
   "execution_count": 2,
   "metadata": {},
   "outputs": [],
   "source": [
    "model_name = \"gpt2-medium\""
   ]
  },
  {
   "cell_type": "code",
   "execution_count": 3,
   "metadata": {},
   "outputs": [
    {
     "data": {
      "application/vnd.jupyter.widget-view+json": {
       "model_id": "41c34e3c7fe54df2ac846195af0f7b55",
       "version_major": 2,
       "version_minor": 0
      },
      "text/plain": [
       "Downloading:   0%|          | 0.00/718 [00:00<?, ?B/s]"
      ]
     },
     "metadata": {},
     "output_type": "display_data"
    },
    {
     "data": {
      "application/vnd.jupyter.widget-view+json": {
       "model_id": "7b6a7b26550b446f950a374d304934b0",
       "version_major": 2,
       "version_minor": 0
      },
      "text/plain": [
       "Downloading:   0%|          | 0.00/1.04M [00:00<?, ?B/s]"
      ]
     },
     "metadata": {},
     "output_type": "display_data"
    },
    {
     "data": {
      "application/vnd.jupyter.widget-view+json": {
       "model_id": "7c85dfe5d7864243832556547264bd30",
       "version_major": 2,
       "version_minor": 0
      },
      "text/plain": [
       "Downloading:   0%|          | 0.00/456k [00:00<?, ?B/s]"
      ]
     },
     "metadata": {},
     "output_type": "display_data"
    },
    {
     "data": {
      "application/vnd.jupyter.widget-view+json": {
       "model_id": "80fd57a4586e43b9bfbc442eabdcabce",
       "version_major": 2,
       "version_minor": 0
      },
      "text/plain": [
       "Downloading:   0%|          | 0.00/1.36M [00:00<?, ?B/s]"
      ]
     },
     "metadata": {},
     "output_type": "display_data"
    }
   ],
   "source": [
    "chef = pipeline('text-generation',model='model/gpt2-trump', tokenizer=model_name,config={'max_length':800})"
   ]
  },
  {
   "cell_type": "code",
   "execution_count": 5,
   "metadata": {},
   "outputs": [
    {
     "name": "stderr",
     "output_type": "stream",
     "text": [
      "Setting `pad_token_id` to `eos_token_id`:50256 for open-end generation.\n"
     ]
    },
    {
     "data": {
      "text/markdown": [
       "<font size=\"5\"><strong>Trump says:</strong></font><br/><br/><font size=\"3\">China is very powerful. China is very powerful. When it comes to money, China, it's not China. It's the United States. We use it. But when it comes to guns we used to have a lot of them. You weren't allowed to have guns in China. They would come into our country and we'd ban them. They'd be stopped from traveling. You couldn't use them. They could be used against us, but they couldn't be used against China. You could. That's a big thing. We've ended the catch and release policy. It allows so many dangerous people to remain in our country and that includes people that are not in our country but we don't want to have with us, but they go through a very painful process of releasing them. Now they're allowed to go back home. They're being released into community. It's called asylum. I've never been so proud. We just closed it. No more deportations. We just closed it. Then we did a raid of MS-13. Did you know that? They use ICE the way it's supposed to be used. They get ICE. The way it's supposed to be, they go to their district, they go to their station. There's ICE to deal with the law-abiding citizen, the criminal. And so over the last seven years or so, we deported an estimated 20,000 criminal gang members, including some from our country and some countries that are not so great, including Mexico, not so friendly. ICE is a very tough group. And we also recently announced new initiatives to target and bring violent criminal aliens out of our country by the millions, not only to our country, but also to other countries. We have pledged to build the wall and we will start building this soon. So we have a much stronger border and we will end catch and release and we will arrest these people and take them back to the country. We'll give them back everything they've earned and we will do what we have to do to make sure it's much safer for everybody. We will end sanctuary cities and they will never ever be allowed to do it again. If you want to protect innocent children, then you must vote for Republican Abraham Lincoln. We will rebuild our military and we will give America the greatest defense she has ever seen. We will strike down the ISIS capital, the heart of the evil caliphate, and we will utterly destroy the radical Islamic terrorists. We will expel terrorists the hell out of our country and we will, very shortly, we will have secured the borders that were closed. Think of the number of miles that they had to travel. What do we have to do? We have great vets. We have great people. And by the way, I'll tell you what. We have people that go to a vet, and a vet is not going to let them walk down the street. Now, that's okay. They're great folks. They've been great. We just started replacing the, remember, that's no good, but that's a good idea, a good idea. So now, you know what else? We are putting a lot of pressure on China so they don't try and rig this election. They said they were going to put a lot of pressure, but we're putting so much pressure on them to fix the mess and we all got back to work. Sleepy Joe Biden, not so happy too anymore, has surrendered his legacy of betraying the American people by betraying the promises he was made to so many Americans. In one week, he promised to defend Social Security and defend Medicare and he ended it. I ended it. Got rid of it. Biden gave away the farm to China. Got rid of it, got rid of it. Biden ended the AIDS miracle. Who said it was a big deal by the way? He promised to end surprise medical billing and eliminate it. And we achieved...</font>"
      ],
      "text/plain": [
       "<IPython.core.display.Markdown object>"
      ]
     },
     "execution_count": 5,
     "metadata": {},
     "output_type": "execute_result"
    }
   ],
   "source": [
    "from IPython.display import display, Markdown\n",
    "\n",
    "text = chef('China is', max_length=800)[0]['generated_text']\n",
    "Markdown('<font size=\"5\"><strong>{}</strong></font><br/><br/><font size=\"3\">{}...</font>'.format(\"Trump says:\", text)"
   ]
  }
 ],
 "metadata": {
  "kernelspec": {
   "display_name": "Python 3",
   "language": "python",
   "name": "python3"
  },
  "language_info": {
   "codemirror_mode": {
    "name": "ipython",
    "version": 3
   },
   "file_extension": ".py",
   "mimetype": "text/x-python",
   "name": "python",
   "nbconvert_exporter": "python",
   "pygments_lexer": "ipython3",
   "version": "3.9.1"
  }
 },
 "nbformat": 4,
 "nbformat_minor": 4
}
